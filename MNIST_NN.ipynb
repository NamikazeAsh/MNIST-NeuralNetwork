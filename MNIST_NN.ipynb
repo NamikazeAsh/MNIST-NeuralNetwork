{
  "nbformat": 4,
  "nbformat_minor": 0,
  "metadata": {
    "colab": {
      "provenance": [],
      "toc_visible": true,
      "gpuType": "T4",
      "authorship_tag": "ABX9TyNKHSUli8Dimnxcx1anyOYo",
      "include_colab_link": true
    },
    "kernelspec": {
      "name": "python3",
      "display_name": "Python 3"
    },
    "language_info": {
      "name": "python"
    }
  },
  "cells": [
    {
      "cell_type": "markdown",
      "metadata": {
        "id": "view-in-github",
        "colab_type": "text"
      },
      "source": [
        "<a href=\"https://colab.research.google.com/github/NamikazeAsh/MNIST-NeuralNetwork/blob/main/MNIST_NN.ipynb\" target=\"_parent\"><img src=\"https://colab.research.google.com/assets/colab-badge.svg\" alt=\"Open In Colab\"/></a>"
      ]
    },
    {
      "cell_type": "code",
      "execution_count": 1,
      "metadata": {
        "id": "zgKuBLhbDzR9",
        "colab": {
          "base_uri": "https://localhost:8080/"
        },
        "outputId": "198f1085-cde3-4c63-f735-0109a343da3d"
      },
      "outputs": [
        {
          "output_type": "stream",
          "name": "stdout",
          "text": [
            "Collecting python-mnist\n",
            "  Downloading python_mnist-0.7-py2.py3-none-any.whl.metadata (3.5 kB)\n",
            "Downloading python_mnist-0.7-py2.py3-none-any.whl (9.6 kB)\n",
            "Installing collected packages: python-mnist\n",
            "Successfully installed python-mnist-0.7\n",
            "Requirement already satisfied: keras in /usr/local/lib/python3.11/dist-packages (3.5.0)\n",
            "Requirement already satisfied: absl-py in /usr/local/lib/python3.11/dist-packages (from keras) (1.4.0)\n",
            "Requirement already satisfied: numpy in /usr/local/lib/python3.11/dist-packages (from keras) (1.26.4)\n",
            "Requirement already satisfied: rich in /usr/local/lib/python3.11/dist-packages (from keras) (13.9.4)\n",
            "Requirement already satisfied: namex in /usr/local/lib/python3.11/dist-packages (from keras) (0.0.8)\n",
            "Requirement already satisfied: h5py in /usr/local/lib/python3.11/dist-packages (from keras) (3.12.1)\n",
            "Requirement already satisfied: optree in /usr/local/lib/python3.11/dist-packages (from keras) (0.13.1)\n",
            "Requirement already satisfied: ml-dtypes in /usr/local/lib/python3.11/dist-packages (from keras) (0.4.1)\n",
            "Requirement already satisfied: packaging in /usr/local/lib/python3.11/dist-packages (from keras) (24.2)\n",
            "Requirement already satisfied: typing-extensions>=4.5.0 in /usr/local/lib/python3.11/dist-packages (from optree->keras) (4.12.2)\n",
            "Requirement already satisfied: markdown-it-py>=2.2.0 in /usr/local/lib/python3.11/dist-packages (from rich->keras) (3.0.0)\n",
            "Requirement already satisfied: pygments<3.0.0,>=2.13.0 in /usr/local/lib/python3.11/dist-packages (from rich->keras) (2.18.0)\n",
            "Requirement already satisfied: mdurl~=0.1 in /usr/local/lib/python3.11/dist-packages (from markdown-it-py>=2.2.0->rich->keras) (0.1.2)\n"
          ]
        }
      ],
      "source": [
        "!pip install python-mnist\n",
        "!pip install keras"
      ]
    },
    {
      "cell_type": "code",
      "source": [
        "import keras\n",
        "from keras.datasets import mnist\n",
        "from google.colab import drive\n",
        "import matplotlib.pyplot as plt\n",
        "import numpy as np\n",
        "from sklearn.metrics import pairwise_distances\n",
        "from scipy.stats import mode\n",
        "from sklearn.metrics.pairwise import euclidean_distances\n",
        "\n",
        "from tensorflow.keras.models import Sequential\n",
        "from tensorflow.keras.layers import Flatten, Dense\n",
        "from tensorflow.keras.datasets import mnist"
      ],
      "metadata": {
        "id": "dTQc0I35GkGQ"
      },
      "execution_count": 2,
      "outputs": []
    },
    {
      "cell_type": "markdown",
      "source": [
        "# Dataset import & standard-scaler"
      ],
      "metadata": {
        "id": "SRmYEFbuYCCH"
      }
    },
    {
      "cell_type": "code",
      "source": [
        "(train_X, train_y), (test_X, test_y) = mnist.load_data()\n",
        "print('train_X: ' + str(train_X.shape))\n",
        "print('train_Y: ' + str(train_y.shape))\n",
        "print('test_X:  '  + str(test_X.shape))\n",
        "print('test_Y:  '  + str(test_y.shape))\n",
        "\n",
        "mean = train_X.mean()\n",
        "std = train_X.std()\n",
        "\n",
        "train_X = (train_X-mean)/std\n",
        "test_X = (test_X-mean)/std\n",
        "\n",
        "print(train_X.mean(),train_X.std(),test_X.mean(),test_X.std())"
      ],
      "metadata": {
        "colab": {
          "base_uri": "https://localhost:8080/"
        },
        "id": "rL0l0LL8D9u7",
        "outputId": "6c938f7f-cb83-44e0-9773-29dd6cf2c998"
      },
      "execution_count": 3,
      "outputs": [
        {
          "output_type": "stream",
          "name": "stdout",
          "text": [
            "Downloading data from https://storage.googleapis.com/tensorflow/tf-keras-datasets/mnist.npz\n",
            "\u001b[1m11490434/11490434\u001b[0m \u001b[32m━━━━━━━━━━━━━━━━━━━━\u001b[0m\u001b[37m\u001b[0m \u001b[1m0s\u001b[0m 0us/step\n",
            "train_X: (60000, 28, 28)\n",
            "train_Y: (60000,)\n",
            "test_X:  (10000, 28, 28)\n",
            "test_Y:  (10000,)\n",
            "-3.064638490070051e-17 0.9999999999999998 0.0060177948928480576 1.0077000453879372\n"
          ]
        }
      ]
    },
    {
      "cell_type": "markdown",
      "source": [
        "Training data has 60,000 matrices of 28 x 28 <br>\n",
        "Test data has 10,000 matrices of 28 x 28"
      ],
      "metadata": {
        "id": "hUjjyZbKV8XI"
      }
    },
    {
      "cell_type": "markdown",
      "source": [
        "# Euclidean Distance"
      ],
      "metadata": {
        "id": "C6kr2IV8iFxf"
      }
    },
    {
      "cell_type": "markdown",
      "source": [
        "## Library"
      ],
      "metadata": {
        "id": "IxpVZV2F9Hyo"
      }
    },
    {
      "cell_type": "code",
      "source": [
        "train_X = train_X.reshape(len(train_X), -1)\n",
        "test_X = test_X.reshape(len(test_X), -1)\n",
        "print(\"Calculating Euclid Distance\")\n",
        "euclid_matrix_l = euclidean_distances(test_X, train_X)"
      ],
      "metadata": {
        "colab": {
          "base_uri": "https://localhost:8080/"
        },
        "id": "jIL4TDwVnE3U",
        "outputId": "010431bf-deb3-4923-c7c6-c398b9824888"
      },
      "execution_count": 4,
      "outputs": [
        {
          "output_type": "stream",
          "name": "stdout",
          "text": [
            "Calculating Euclid Distance\n"
          ]
        }
      ]
    },
    {
      "cell_type": "code",
      "source": [
        "print(f\"Distance matrix shape: {euclid_matrix_l.shape}\")\n",
        "euclid_matrix_l"
      ],
      "metadata": {
        "colab": {
          "base_uri": "https://localhost:8080/"
        },
        "id": "LiSQ9kTjRzvT",
        "outputId": "f115875c-e1c6-463a-d71e-df3c11e40f46"
      },
      "execution_count": 5,
      "outputs": [
        {
          "output_type": "stream",
          "name": "stdout",
          "text": [
            "Distance matrix shape: (10000, 60000)\n"
          ]
        },
        {
          "output_type": "execute_result",
          "data": {
            "text/plain": [
              "array([[30.49347374, 33.73698591, 30.64000451, ..., 30.72774416,\n",
              "        30.94334419, 29.93467693],\n",
              "       [36.29571914, 37.16568463, 37.83390898, ..., 36.54600987,\n",
              "        33.96240682, 34.38250442],\n",
              "       [29.9368145 , 32.70375676, 29.70772894, ..., 30.04280102,\n",
              "        27.40202129, 27.23465688],\n",
              "       ...,\n",
              "       [33.44339384, 37.27477696, 34.09572819, ..., 32.41351585,\n",
              "        33.46633925, 31.47693645],\n",
              "       [34.28231512, 33.86866676, 35.74125611, ..., 33.77537401,\n",
              "        29.49179966, 30.00370839],\n",
              "       [37.47275041, 31.98073422, 40.75626875, ..., 39.34297271,\n",
              "        26.25689015, 37.79375803]])"
            ]
          },
          "metadata": {},
          "execution_count": 5
        }
      ]
    },
    {
      "cell_type": "markdown",
      "source": [
        "# Cosine similarity matrix"
      ],
      "metadata": {
        "id": "mNN85MuDX_k_"
      }
    },
    {
      "cell_type": "code",
      "source": [
        "# #making vector a as image 1 in 1d\n",
        "# cosine_matrix = np.zeros((1000,1000))\n",
        "\n",
        "# for i in range(1000):\n",
        "\n",
        "#   vec_a = train_X[i].flatten()\n",
        "\n",
        "#   for j in range(1000):\n",
        "#     if i!=j:\n",
        "#       #using diff instances for vector b from all other images\n",
        "#       vec_b = train_X[j].flatten()\n",
        "\n",
        "#       #deriving a.b (dot product)\n",
        "#       abdot = np.dot(vec_a,vec_b)\n",
        "\n",
        "#       # deriving |a| and |b|\n",
        "#       norm_a = np.linalg.norm(vec_a)\n",
        "#       norm_b = np.linalg.norm(vec_b)\n",
        "\n",
        "#       #cosT = a.b/|a||b|\n",
        "#       cosine_sim = abdot/(norm_a * norm_b)\n",
        "\n",
        "#       #storing in matrix\n",
        "#       cosine_matrix[i,j] = cosine_sim\n",
        "#     else:\n",
        "#       cosine_matrix[i,j] = 1\n",
        "\n",
        "# print(cosine_matrix,(cosine_matrix.shape))\n",
        "\n",
        "# #loop in numpy transformations/vectorized?\n",
        "# #technique : vectorization in python => reduces python loops => numpy runs in c."
      ],
      "metadata": {
        "id": "2BveqIYtW1_o"
      },
      "execution_count": 6,
      "outputs": []
    },
    {
      "cell_type": "markdown",
      "source": [
        "# Custom KNN"
      ],
      "metadata": {
        "id": "XltGoLr_7aZJ"
      }
    },
    {
      "cell_type": "code",
      "source": [
        "k=3\n",
        "nearest_indices = np.argsort(euclid_matrix_l, axis=1)[:, :k] #returns incides for up to k nearest values, in order.\n",
        "\n",
        "nearest_labels = train_y[nearest_indices] #labels of the closest indices based on distance\n",
        "predictions = mode(nearest_labels, axis=1).mode.flatten()\n",
        "\n",
        "accuracy = np.mean(predictions == test_y) #correct predictions/total predictions from boolean array\n",
        "print(f\"Accuracy: {accuracy * 100:.2f}%\")"
      ],
      "metadata": {
        "id": "1gmw9qHyFv5d",
        "colab": {
          "base_uri": "https://localhost:8080/"
        },
        "outputId": "2c7ce976-cbc1-418b-c216-5f41a4025bf0"
      },
      "execution_count": 7,
      "outputs": [
        {
          "output_type": "stream",
          "name": "stdout",
          "text": [
            "Shape:  (10000, 3)\n",
            "Accuracy: 97.05%\n"
          ]
        }
      ]
    },
    {
      "cell_type": "code",
      "source": [
        "train_y"
      ],
      "metadata": {
        "colab": {
          "base_uri": "https://localhost:8080/"
        },
        "id": "wWZyZdjmeeR_",
        "outputId": "21ad7a6c-c984-477f-80f0-02850c5a5b9a"
      },
      "execution_count": 8,
      "outputs": [
        {
          "output_type": "execute_result",
          "data": {
            "text/plain": [
              "array([5, 0, 4, ..., 5, 6, 8], dtype=uint8)"
            ]
          },
          "metadata": {},
          "execution_count": 8
        }
      ]
    },
    {
      "cell_type": "markdown",
      "source": [
        "# Neural Network"
      ],
      "metadata": {
        "id": "f9ZwKIoJtUW_"
      }
    },
    {
      "cell_type": "code",
      "source": [
        "model = Sequential([\n",
        "    Dense(128, activation='relu', input_shape=(784,)), # passing 784 since my data is flattened alr.\n",
        "    Dense(64, activation='relu'),\n",
        "    Dense(10, activation='softmax')\n",
        "])\n",
        "\n",
        "# compiling the model\n",
        "model.compile(optimizer='adam',\n",
        "              loss='sparse_categorical_crossentropy',\n",
        "              metrics=['accuracy'])"
      ],
      "metadata": {
        "colab": {
          "base_uri": "https://localhost:8080/"
        },
        "id": "pJkPjEdyrzaH",
        "outputId": "daedbb80-7ebc-48fa-c417-467241f0fc5a"
      },
      "execution_count": 11,
      "outputs": [
        {
          "output_type": "stream",
          "name": "stderr",
          "text": [
            "/usr/local/lib/python3.11/dist-packages/keras/src/layers/core/dense.py:87: UserWarning: Do not pass an `input_shape`/`input_dim` argument to a layer. When using Sequential models, prefer using an `Input(shape)` object as the first layer in the model instead.\n",
            "  super().__init__(activity_regularizer=activity_regularizer, **kwargs)\n"
          ]
        }
      ]
    },
    {
      "cell_type": "code",
      "source": [
        "# Train the model\n",
        "model.fit(train_X, train_y, epochs=10, batch_size=32, validation_split=0.2)"
      ],
      "metadata": {
        "colab": {
          "base_uri": "https://localhost:8080/"
        },
        "id": "-IFHJCTrr1-X",
        "outputId": "1488f167-aca3-4b08-fcca-63d66e4075e5"
      },
      "execution_count": 12,
      "outputs": [
        {
          "output_type": "stream",
          "name": "stdout",
          "text": [
            "Epoch 1/10\n",
            "\u001b[1m1500/1500\u001b[0m \u001b[32m━━━━━━━━━━━━━━━━━━━━\u001b[0m\u001b[37m\u001b[0m \u001b[1m8s\u001b[0m 5ms/step - accuracy: 0.8700 - loss: 0.4184 - val_accuracy: 0.9533 - val_loss: 0.1642\n",
            "Epoch 2/10\n",
            "\u001b[1m1500/1500\u001b[0m \u001b[32m━━━━━━━━━━━━━━━━━━━━\u001b[0m\u001b[37m\u001b[0m \u001b[1m5s\u001b[0m 3ms/step - accuracy: 0.9634 - loss: 0.1182 - val_accuracy: 0.9622 - val_loss: 0.1220\n",
            "Epoch 3/10\n",
            "\u001b[1m1500/1500\u001b[0m \u001b[32m━━━━━━━━━━━━━━━━━━━━\u001b[0m\u001b[37m\u001b[0m \u001b[1m7s\u001b[0m 4ms/step - accuracy: 0.9741 - loss: 0.0811 - val_accuracy: 0.9672 - val_loss: 0.1134\n",
            "Epoch 4/10\n",
            "\u001b[1m1500/1500\u001b[0m \u001b[32m━━━━━━━━━━━━━━━━━━━━\u001b[0m\u001b[37m\u001b[0m \u001b[1m5s\u001b[0m 3ms/step - accuracy: 0.9800 - loss: 0.0641 - val_accuracy: 0.9691 - val_loss: 0.1204\n",
            "Epoch 5/10\n",
            "\u001b[1m1500/1500\u001b[0m \u001b[32m━━━━━━━━━━━━━━━━━━━━\u001b[0m\u001b[37m\u001b[0m \u001b[1m5s\u001b[0m 3ms/step - accuracy: 0.9839 - loss: 0.0485 - val_accuracy: 0.9694 - val_loss: 0.1092\n",
            "Epoch 6/10\n",
            "\u001b[1m1500/1500\u001b[0m \u001b[32m━━━━━━━━━━━━━━━━━━━━\u001b[0m\u001b[37m\u001b[0m \u001b[1m7s\u001b[0m 4ms/step - accuracy: 0.9854 - loss: 0.0415 - val_accuracy: 0.9739 - val_loss: 0.1023\n",
            "Epoch 7/10\n",
            "\u001b[1m1500/1500\u001b[0m \u001b[32m━━━━━━━━━━━━━━━━━━━━\u001b[0m\u001b[37m\u001b[0m \u001b[1m5s\u001b[0m 3ms/step - accuracy: 0.9871 - loss: 0.0378 - val_accuracy: 0.9752 - val_loss: 0.1053\n",
            "Epoch 8/10\n",
            "\u001b[1m1500/1500\u001b[0m \u001b[32m━━━━━━━━━━━━━━━━━━━━\u001b[0m\u001b[37m\u001b[0m \u001b[1m7s\u001b[0m 5ms/step - accuracy: 0.9898 - loss: 0.0315 - val_accuracy: 0.9696 - val_loss: 0.1281\n",
            "Epoch 9/10\n",
            "\u001b[1m1500/1500\u001b[0m \u001b[32m━━━━━━━━━━━━━━━━━━━━\u001b[0m\u001b[37m\u001b[0m \u001b[1m9s\u001b[0m 4ms/step - accuracy: 0.9918 - loss: 0.0233 - val_accuracy: 0.9734 - val_loss: 0.1220\n",
            "Epoch 10/10\n",
            "\u001b[1m1500/1500\u001b[0m \u001b[32m━━━━━━━━━━━━━━━━━━━━\u001b[0m\u001b[37m\u001b[0m \u001b[1m9s\u001b[0m 3ms/step - accuracy: 0.9919 - loss: 0.0249 - val_accuracy: 0.9716 - val_loss: 0.1302\n"
          ]
        },
        {
          "output_type": "execute_result",
          "data": {
            "text/plain": [
              "<keras.src.callbacks.history.History at 0x7decbaed6450>"
            ]
          },
          "metadata": {},
          "execution_count": 12
        }
      ]
    },
    {
      "cell_type": "code",
      "source": [
        "# Evaluate on the test set\n",
        "test_loss, test_accuracy = model.evaluate(test_X, test_y, verbose=2)\n",
        "print(f\"Test Accuracy: {test_accuracy * 100:.2f}%\")"
      ],
      "metadata": {
        "colab": {
          "base_uri": "https://localhost:8080/"
        },
        "id": "kyqE6cpCsdEA",
        "outputId": "26b0eeb7-77f3-454e-d759-2c4d9516d4e0"
      },
      "execution_count": 13,
      "outputs": [
        {
          "output_type": "stream",
          "name": "stdout",
          "text": [
            "313/313 - 1s - 2ms/step - accuracy: 0.9727 - loss: 0.1234\n",
            "Test Accuracy: 97.27%\n"
          ]
        }
      ]
    },
    {
      "cell_type": "code",
      "source": [
        "predictions = model.predict(test_X[:10])\n",
        "predicted_classes = np.argmax(predictions, axis=1)  # Get the index of the highest probability\n",
        "true_classes = test_y[:10]\n",
        "\n",
        "plt.figure(figsize=(10, 5))\n",
        "for i in range(10):\n",
        "    plt.subplot(2, 5, i + 1)\n",
        "    plt.imshow(test_X[i].reshape(28, 28), cmap='gray')  # Reshape for visualization\n",
        "    plt.title(f\"Predicted: {predicted_classes[i]}\\nTrue: {true_classes[i]}\")\n",
        "    plt.axis('off')\n",
        "plt.tight_layout()\n",
        "plt.show()"
      ],
      "metadata": {
        "colab": {
          "base_uri": "https://localhost:8080/",
          "height": 508
        },
        "id": "nWhWZsWVsueO",
        "outputId": "c1d62612-a5be-4707-a52a-7b67d18155e2"
      },
      "execution_count": 18,
      "outputs": [
        {
          "output_type": "stream",
          "name": "stdout",
          "text": [
            "\u001b[1m1/1\u001b[0m \u001b[32m━━━━━━━━━━━━━━━━━━━━\u001b[0m\u001b[37m\u001b[0m \u001b[1m0s\u001b[0m 19ms/step\n"
          ]
        },
        {
          "output_type": "display_data",
          "data": {
            "text/plain": [
              "<Figure size 1000x500 with 10 Axes>"
            ],
            "image/png": "[encoded data removed]"
          },
          "metadata": {}
        }
      ]
    }
  ]
}