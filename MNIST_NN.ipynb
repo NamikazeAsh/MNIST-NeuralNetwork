{
  "nbformat": 4,
  "nbformat_minor": 0,
  "metadata": {
    "colab": {
      "provenance": [],
      "toc_visible": true,
      "gpuType": "T4",
      "collapsed_sections": [
        "mNN85MuDX_k_"
      ],
      "authorship_tag": "ABX9TyNPDyLn9D5KXp2Vvu+xZU+m",
      "include_colab_link": true
    },
    "kernelspec": {
      "name": "python3",
      "display_name": "Python 3"
    },
    "language_info": {
      "name": "python"
    },
    "accelerator": "GPU"
  },
  "cells": [
    {
      "cell_type": "markdown",
      "metadata": {
        "id": "view-in-github",
        "colab_type": "text"
      },
      "source": [
        "<a href=\"https://colab.research.google.com/github/NamikazeAsh/MNIST-NeuralNetwork/blob/main/MNIST_NN.ipynb\" target=\"_parent\"><img src=\"https://colab.research.google.com/assets/colab-badge.svg\" alt=\"Open In Colab\"/></a>"
      ]
    },
    {
      "cell_type": "code",
      "source": [
        "import keras\n",
        "from keras.datasets import mnist\n",
        "from google.colab import drive\n",
        "import matplotlib.pyplot as plt\n",
        "import numpy as np\n",
        "from sklearn.metrics import pairwise_distances\n",
        "from scipy.stats import mode\n",
        "from sklearn.metrics.pairwise import euclidean_distances\n",
        "\n",
        "from tensorflow.keras.models import Sequential\n",
        "from tensorflow.keras.layers import Flatten, Dense\n",
        "from tensorflow.keras.datasets import mnist\n",
        "from sklearn.metrics import confusion_matrix, ConfusionMatrixDisplay"
      ],
      "metadata": {
        "id": "dTQc0I35GkGQ"
      },
      "execution_count": 2,
      "outputs": []
    },
    {
      "cell_type": "markdown",
      "source": [
        "# Dataset import & standard-scaler"
      ],
      "metadata": {
        "id": "SRmYEFbuYCCH"
      }
    },
    {
      "cell_type": "code",
      "source": [
        "(train_X, train_y), (test_X, test_y) = mnist.load_data()\n",
        "print('train_X: ' + str(train_X.shape))\n",
        "print('train_Y: ' + str(train_y.shape))\n",
        "print('test_X:  '  + str(test_X.shape))\n",
        "print('test_Y:  '  + str(test_y.shape))\n",
        "\n",
        "mean = train_X.mean()\n",
        "std = train_X.std()\n",
        "\n",
        "train_X = (train_X-mean)/std\n",
        "test_X = (test_X-mean)/std\n",
        "\n",
        "print(train_X.mean(),train_X.std(),test_X.mean(),test_X.std())"
      ],
      "metadata": {
        "colab": {
          "base_uri": "https://localhost:8080/"
        },
        "id": "rL0l0LL8D9u7",
        "outputId": "5d6563a0-547f-41cf-9b2d-ab7ae653380e"
      },
      "execution_count": 3,
      "outputs": [
        {
          "output_type": "stream",
          "name": "stdout",
          "text": [
            "Downloading data from https://storage.googleapis.com/tensorflow/tf-keras-datasets/mnist.npz\n",
            "\u001b[1m11490434/11490434\u001b[0m \u001b[32m━━━━━━━━━━━━━━━━━━━━\u001b[0m\u001b[37m\u001b[0m \u001b[1m2s\u001b[0m 0us/step\n",
            "train_X: (60000, 28, 28)\n",
            "train_Y: (60000,)\n",
            "test_X:  (10000, 28, 28)\n",
            "test_Y:  (10000,)\n",
            "-3.064638490070051e-17 0.9999999999999998 0.0060177948928480576 1.0077000453879372\n"
          ]
        }
      ]
    },
    {
      "cell_type": "markdown",
      "source": [
        "Training data has 60,000 matrices of 28 x 28 <br>\n",
        "Test data has 10,000 matrices of 28 x 28"
      ],
      "metadata": {
        "id": "hUjjyZbKV8XI"
      }
    },
    {
      "cell_type": "markdown",
      "source": [
        "# Euclidean Distance"
      ],
      "metadata": {
        "id": "C6kr2IV8iFxf"
      }
    },
    {
      "cell_type": "markdown",
      "source": [
        "## Library"
      ],
      "metadata": {
        "id": "IxpVZV2F9Hyo"
      }
    },
    {
      "cell_type": "code",
      "source": [
        "train_X = train_X.reshape(len(train_X), -1)\n",
        "test_X = test_X.reshape(len(test_X), -1)\n",
        "print(\"Calculating Euclid Distance\")\n",
        "euclid_matrix_l = euclidean_distances(test_X, train_X)"
      ],
      "metadata": {
        "colab": {
          "base_uri": "https://localhost:8080/"
        },
        "id": "jIL4TDwVnE3U",
        "outputId": "b3f48cce-6029-43f1-b178-7b695a83ab39"
      },
      "execution_count": 4,
      "outputs": [
        {
          "output_type": "stream",
          "name": "stdout",
          "text": [
            "Calculating Euclid Distance\n"
          ]
        }
      ]
    },
    {
      "cell_type": "code",
      "source": [
        "print(f\"Distance matrix shape: {euclid_matrix_l.shape}\")\n",
        "euclid_matrix_l"
      ],
      "metadata": {
        "colab": {
          "base_uri": "https://localhost:8080/"
        },
        "id": "LiSQ9kTjRzvT",
        "outputId": "49491b45-a5a4-4571-cb56-29e4c6de05b3"
      },
      "execution_count": 5,
      "outputs": [
        {
          "output_type": "stream",
          "name": "stdout",
          "text": [
            "Distance matrix shape: (10000, 60000)\n"
          ]
        },
        {
          "output_type": "execute_result",
          "data": {
            "text/plain": [
              "array([[30.49347374, 33.73698591, 30.64000451, ..., 30.72774416,\n",
              "        30.94334419, 29.93467693],\n",
              "       [36.29571914, 37.16568463, 37.83390898, ..., 36.54600987,\n",
              "        33.96240682, 34.38250442],\n",
              "       [29.9368145 , 32.70375676, 29.70772894, ..., 30.04280102,\n",
              "        27.40202129, 27.23465688],\n",
              "       ...,\n",
              "       [33.44339384, 37.27477696, 34.09572819, ..., 32.41351585,\n",
              "        33.46633925, 31.47693645],\n",
              "       [34.28231512, 33.86866676, 35.74125611, ..., 33.77537401,\n",
              "        29.49179966, 30.00370839],\n",
              "       [37.47275041, 31.98073422, 40.75626875, ..., 39.34297271,\n",
              "        26.25689015, 37.79375803]])"
            ]
          },
          "metadata": {},
          "execution_count": 5
        }
      ]
    },
    {
      "cell_type": "markdown",
      "source": [
        "# Cosine similarity matrix"
      ],
      "metadata": {
        "id": "mNN85MuDX_k_"
      }
    },
    {
      "cell_type": "code",
      "source": [
        "# #making vector a as image 1 in 1d\n",
        "# cosine_matrix = np.zeros((1000,1000))\n",
        "\n",
        "# for i in range(1000):\n",
        "\n",
        "#   vec_a = train_X[i].flatten()\n",
        "\n",
        "#   for j in range(1000):\n",
        "#     if i!=j:\n",
        "#       #using diff instances for vector b from all other images\n",
        "#       vec_b = train_X[j].flatten()\n",
        "\n",
        "#       #deriving a.b (dot product)\n",
        "#       abdot = np.dot(vec_a,vec_b)\n",
        "\n",
        "#       # deriving |a| and |b|\n",
        "#       norm_a = np.linalg.norm(vec_a)\n",
        "#       norm_b = np.linalg.norm(vec_b)\n",
        "\n",
        "#       #cosT = a.b/|a||b|\n",
        "#       cosine_sim = abdot/(norm_a * norm_b)\n",
        "\n",
        "#       #storing in matrix\n",
        "#       cosine_matrix[i,j] = cosine_sim\n",
        "#     else:\n",
        "#       cosine_matrix[i,j] = 1\n",
        "\n",
        "# print(cosine_matrix,(cosine_matrix.shape))\n",
        "\n",
        "# #loop in numpy transformations/vectorized?\n",
        "# #technique : vectorization in python => reduces python loops => numpy runs in c."
      ],
      "metadata": {
        "id": "2BveqIYtW1_o"
      },
      "execution_count": 6,
      "outputs": []
    },
    {
      "cell_type": "markdown",
      "source": [
        "# Custom KNN"
      ],
      "metadata": {
        "id": "XltGoLr_7aZJ"
      }
    },
    {
      "cell_type": "code",
      "source": [
        "k=3\n",
        "nearest_indices = np.argsort(euclid_matrix_l, axis=1)[:, :k] #returns incides for up to k nearest values, in order.\n",
        "\n",
        "nearest_labels = train_y[nearest_indices] #labels of the closest indices based on distance\n",
        "predictions = mode(nearest_labels, axis=1).mode.flatten()\n",
        "\n",
        "accuracy = np.mean(predictions == test_y) #correct predictions/total predictions from boolean array\n",
        "print(f\"Accuracy: {accuracy * 100:.2f}%\")"
      ],
      "metadata": {
        "id": "1gmw9qHyFv5d",
        "colab": {
          "base_uri": "https://localhost:8080/"
        },
        "outputId": "454fd027-ab2f-45d9-8e46-d84f8d9ae066"
      },
      "execution_count": 7,
      "outputs": [
        {
          "output_type": "stream",
          "name": "stdout",
          "text": [
            "Accuracy: 97.05%\n"
          ]
        }
      ]
    },
    {
      "cell_type": "code",
      "source": [
        "train_y"
      ],
      "metadata": {
        "colab": {
          "base_uri": "https://localhost:8080/"
        },
        "id": "wWZyZdjmeeR_",
        "outputId": "cc1add7a-f1b8-4154-e6a8-8b777d9cdaf8"
      },
      "execution_count": 8,
      "outputs": [
        {
          "output_type": "execute_result",
          "data": {
            "text/plain": [
              "array([5, 0, 4, ..., 5, 6, 8], dtype=uint8)"
            ]
          },
          "metadata": {},
          "execution_count": 8
        }
      ]
    },
    {
      "cell_type": "markdown",
      "source": [
        "# Neural Network"
      ],
      "metadata": {
        "id": "f9ZwKIoJtUW_"
      }
    },
    {
      "cell_type": "code",
      "source": [
        "model = Sequential([\n",
        "    Dense(128, activation='relu', input_shape=(784,)), # passing 784 since my data is flattened alr.\n",
        "    Dense(64, activation='relu'),\n",
        "    Dense(10, activation='softmax')\n",
        "])\n",
        "\n",
        "# compiling the model\n",
        "model.compile(optimizer='adam',\n",
        "              loss='sparse_categorical_crossentropy',\n",
        "              metrics=['accuracy'])"
      ],
      "metadata": {
        "colab": {
          "base_uri": "https://localhost:8080/"
        },
        "id": "pJkPjEdyrzaH",
        "outputId": "26742383-aaef-4475-ca2e-3f67ae60b67c"
      },
      "execution_count": 9,
      "outputs": [
        {
          "output_type": "stream",
          "name": "stderr",
          "text": [
            "/usr/local/lib/python3.11/dist-packages/keras/src/layers/core/dense.py:87: UserWarning: Do not pass an `input_shape`/`input_dim` argument to a layer. When using Sequential models, prefer using an `Input(shape)` object as the first layer in the model instead.\n",
            "  super().__init__(activity_regularizer=activity_regularizer, **kwargs)\n"
          ]
        }
      ]
    },
    {
      "cell_type": "code",
      "source": [
        "# Train the model\n",
        "model.fit(train_X, train_y, epochs=10, batch_size=32, validation_split=0.2)"
      ],
      "metadata": {
        "colab": {
          "base_uri": "https://localhost:8080/"
        },
        "id": "-IFHJCTrr1-X",
        "outputId": "00dea33d-2385-4308-f230-1f49c9f44a8c"
      },
      "execution_count": 10,
      "outputs": [
        {
          "output_type": "stream",
          "name": "stdout",
          "text": [
            "Epoch 1/10\n",
            "\u001b[1m1500/1500\u001b[0m \u001b[32m━━━━━━━━━━━━━━━━━━━━\u001b[0m\u001b[37m\u001b[0m \u001b[1m8s\u001b[0m 3ms/step - accuracy: 0.8694 - loss: 0.4207 - val_accuracy: 0.9547 - val_loss: 0.1520\n",
            "Epoch 2/10\n",
            "\u001b[1m1500/1500\u001b[0m \u001b[32m━━━━━━━━━━━━━━━━━━━━\u001b[0m\u001b[37m\u001b[0m \u001b[1m7s\u001b[0m 2ms/step - accuracy: 0.9678 - loss: 0.1071 - val_accuracy: 0.9542 - val_loss: 0.1497\n",
            "Epoch 3/10\n",
            "\u001b[1m1500/1500\u001b[0m \u001b[32m━━━━━━━━━━━━━━━━━━━━\u001b[0m\u001b[37m\u001b[0m \u001b[1m6s\u001b[0m 3ms/step - accuracy: 0.9750 - loss: 0.0803 - val_accuracy: 0.9633 - val_loss: 0.1206\n",
            "Epoch 4/10\n",
            "\u001b[1m1500/1500\u001b[0m \u001b[32m━━━━━━━━━━━━━━━━━━━━\u001b[0m\u001b[37m\u001b[0m \u001b[1m3s\u001b[0m 2ms/step - accuracy: 0.9790 - loss: 0.0633 - val_accuracy: 0.9645 - val_loss: 0.1263\n",
            "Epoch 5/10\n",
            "\u001b[1m1500/1500\u001b[0m \u001b[32m━━━━━━━━━━━━━━━━━━━━\u001b[0m\u001b[37m\u001b[0m \u001b[1m3s\u001b[0m 2ms/step - accuracy: 0.9844 - loss: 0.0460 - val_accuracy: 0.9682 - val_loss: 0.1190\n",
            "Epoch 6/10\n",
            "\u001b[1m1500/1500\u001b[0m \u001b[32m━━━━━━━━━━━━━━━━━━━━\u001b[0m\u001b[37m\u001b[0m \u001b[1m6s\u001b[0m 3ms/step - accuracy: 0.9851 - loss: 0.0432 - val_accuracy: 0.9720 - val_loss: 0.1074\n",
            "Epoch 7/10\n",
            "\u001b[1m1500/1500\u001b[0m \u001b[32m━━━━━━━━━━━━━━━━━━━━\u001b[0m\u001b[37m\u001b[0m \u001b[1m3s\u001b[0m 2ms/step - accuracy: 0.9879 - loss: 0.0361 - val_accuracy: 0.9712 - val_loss: 0.1120\n",
            "Epoch 8/10\n",
            "\u001b[1m1500/1500\u001b[0m \u001b[32m━━━━━━━━━━━━━━━━━━━━\u001b[0m\u001b[37m\u001b[0m \u001b[1m3s\u001b[0m 2ms/step - accuracy: 0.9897 - loss: 0.0312 - val_accuracy: 0.9712 - val_loss: 0.1227\n",
            "Epoch 9/10\n",
            "\u001b[1m1500/1500\u001b[0m \u001b[32m━━━━━━━━━━━━━━━━━━━━\u001b[0m\u001b[37m\u001b[0m \u001b[1m6s\u001b[0m 2ms/step - accuracy: 0.9909 - loss: 0.0292 - val_accuracy: 0.9691 - val_loss: 0.1377\n",
            "Epoch 10/10\n",
            "\u001b[1m1500/1500\u001b[0m \u001b[32m━━━━━━━━━━━━━━━━━━━━\u001b[0m\u001b[37m\u001b[0m \u001b[1m4s\u001b[0m 2ms/step - accuracy: 0.9911 - loss: 0.0268 - val_accuracy: 0.9728 - val_loss: 0.1238\n"
          ]
        },
        {
          "output_type": "execute_result",
          "data": {
            "text/plain": [
              "<keras.src.callbacks.history.History at 0x7d722cad71d0>"
            ]
          },
          "metadata": {},
          "execution_count": 10
        }
      ]
    },
    {
      "cell_type": "code",
      "source": [
        "# Evaluate on the test set\n",
        "test_loss, test_accuracy = model.evaluate(test_X, test_y, verbose=2)\n",
        "print(f\"Test Accuracy: {test_accuracy * 100:.2f}%\")"
      ],
      "metadata": {
        "colab": {
          "base_uri": "https://localhost:8080/"
        },
        "id": "kyqE6cpCsdEA",
        "outputId": "7f762824-61b0-4c6d-9ef1-52a79e76abb5"
      },
      "execution_count": 11,
      "outputs": [
        {
          "output_type": "stream",
          "name": "stdout",
          "text": [
            "313/313 - 2s - 5ms/step - accuracy: 0.9741 - loss: 0.1131\n",
            "Test Accuracy: 97.41%\n"
          ]
        }
      ]
    },
    {
      "cell_type": "code",
      "source": [
        "predictions = model.predict(test_X[:10])\n",
        "predicted_classes = np.argmax(predictions, axis=1)  # Get the index of the highest probability\n",
        "true_classes = test_y[:10]\n",
        "\n",
        "plt.figure(figsize=(10, 5))\n",
        "for i in range(10):\n",
        "    plt.subplot(2, 5, i + 1)\n",
        "    plt.imshow(test_X[i].reshape(28, 28), cmap='gray')  # Reshape for visualization\n",
        "    plt.title(f\"Predicted: {predicted_classes[i]}\\nTrue: {true_classes[i]}\")\n",
        "    plt.axis('off')\n",
        "plt.tight_layout()\n",
        "plt.show()"
      ],
      "metadata": {
        "colab": {
          "base_uri": "https://localhost:8080/",
          "height": 511
        },
        "id": "nWhWZsWVsueO",
        "outputId": "c1b68c65-179a-4a75-fa08-a4b6540663b2"
      },
      "execution_count": 12,
      "outputs": [
        {
          "output_type": "stream",
          "name": "stdout",
          "text": [
            "\u001b[1m1/1\u001b[0m \u001b[32m━━━━━━━━━━━━━━━━━━━━\u001b[0m\u001b[37m\u001b[0m \u001b[1m0s\u001b[0m 283ms/step\n"
          ]
        },
        {
          "output_type": "display_data",
          "data": {
            "text/plain": [
              "<Figure size 1000x500 with 10 Axes>"
            ],
            "image/png": "[encoded data removed]"
          },
          "metadata": {}
        }
      ]
    },
    {
      "cell_type": "code",
      "source": [
        "# Get predictions for all test images\n",
        "predictions = model.predict(test_X)\n",
        "predicted_classes = np.argmax(predictions, axis=1)\n",
        "\n",
        "# Generate and display the confusion matrix\n",
        "cm = confusion_matrix(test_y, predicted_classes)\n",
        "disp = ConfusionMatrixDisplay(confusion_matrix=cm, display_labels=range(10))\n",
        "disp.plot(cmap='Blues')\n",
        "plt.show()\n"
      ],
      "metadata": {
        "colab": {
          "base_uri": "https://localhost:8080/",
          "height": 466
        },
        "id": "gY9u9BHbvsz0",
        "outputId": "fca04bff-8a8f-4ed8-c208-5966c4105563"
      },
      "execution_count": 13,
      "outputs": [
        {
          "output_type": "stream",
          "name": "stdout",
          "text": [
            "\u001b[1m313/313\u001b[0m \u001b[32m━━━━━━━━━━━━━━━━━━━━\u001b[0m\u001b[37m\u001b[0m \u001b[1m1s\u001b[0m 2ms/step\n"
          ]
        },
        {
          "output_type": "display_data",
          "data": {
            "text/plain": [
              "<Figure size 640x480 with 2 Axes>"
            ],
            "image/png": "[encoded data removed]"
          },
          "metadata": {}
        }
      ]
    },
    {
      "cell_type": "markdown",
      "source": [
        "Correct Predictions<br>972 0's, 1127 1's, 1013 2's, 984 3's, 951 4's<br> 851 5's, 938 6's,993 7's,947 8's, 965 9's"
      ],
      "metadata": {
        "id": "axygHMVWw52j"
      }
    }
  ]
}